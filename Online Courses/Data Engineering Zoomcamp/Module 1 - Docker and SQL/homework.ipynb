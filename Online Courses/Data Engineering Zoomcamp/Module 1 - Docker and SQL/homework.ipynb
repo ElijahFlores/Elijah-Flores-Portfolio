{
 "cells": [
  {
   "cell_type": "markdown",
   "metadata": {},
   "source": [
    "# Module 1 - Docker, SQL and Terraform"
   ]
  },
  {
   "cell_type": "markdown",
   "metadata": {},
   "source": [
    "Question 1. Version of pip (1 point)\n",
    "\n",
    "\n",
    "24.3.1\n",
    "\n",
    "24.2.1\n",
    "\n",
    "23.3.1\n",
    "\n",
    "23.2.1"
   ]
  },
  {
   "cell_type": "code",
   "execution_count": null,
   "metadata": {},
   "outputs": [],
   "source": []
  },
  {
   "cell_type": "markdown",
   "metadata": {},
   "source": [
    "Question 2. Docker networking and docker-compose (1 point)\n",
    "\n",
    "\n",
    "postgres:5433\n",
    "\n",
    "localhost:5432\n",
    "\n",
    "db:5433\n",
    "\n",
    "postgres:5432\n",
    "\n",
    "db:5432"
   ]
  },
  {
   "cell_type": "code",
   "execution_count": null,
   "metadata": {},
   "outputs": [],
   "source": []
  },
  {
   "cell_type": "markdown",
   "metadata": {},
   "source": [
    "Question 3. Trip Segmentation Count (1 point)\n",
    "\n",
    "\n",
    "104,802; 197,670; 110,612; 27,831; 35,281\n",
    "\n",
    "104,802; 198,924; 109,603; 27,678; 35,189\n",
    "\n",
    "104,793; 201,407; 110,612; 27,831; 35,281\n",
    "\n",
    "104,793; 202,661; 109,603; 27,678; 35,189\n",
    "\n",
    "104,838; 199,013; 109,645; 27,688; 35,202"
   ]
  },
  {
   "cell_type": "code",
   "execution_count": null,
   "metadata": {},
   "outputs": [],
   "source": []
  },
  {
   "cell_type": "markdown",
   "metadata": {},
   "source": [
    "Question 4. Longest trip (1 point)\n",
    "\n",
    "\n",
    "2019-10-11\n",
    "\n",
    "2019-10-24\n",
    "\n",
    "2019-10-26\n",
    "\n",
    "2019-10-31"
   ]
  },
  {
   "cell_type": "code",
   "execution_count": null,
   "metadata": {},
   "outputs": [],
   "source": []
  },
  {
   "cell_type": "markdown",
   "metadata": {},
   "source": [
    "Question 5. Biggest pickup zones (1 point)\n",
    "\n",
    "\n",
    "East Harlem North, East Harlem South, Morningside Heights\n",
    "\n",
    "East Harlem North, Morningside Heights\n",
    "\n",
    "Morningside Heights, Astoria Park, East Harlem South\n",
    "\n",
    "Bedford, East Harlem North, Astoria Park"
   ]
  },
  {
   "cell_type": "code",
   "execution_count": null,
   "metadata": {},
   "outputs": [],
   "source": []
  },
  {
   "cell_type": "markdown",
   "metadata": {},
   "source": [
    "Question 6. Largest tip (1 point)\n",
    "\n",
    "\n",
    "Yorkville West\n",
    "\n",
    "JFK Airport\n",
    "\n",
    "East Harlem North\n",
    "\n",
    "East Harlem South"
   ]
  },
  {
   "cell_type": "code",
   "execution_count": null,
   "metadata": {},
   "outputs": [],
   "source": []
  },
  {
   "cell_type": "markdown",
   "metadata": {},
   "source": [
    "Question 7. Terraform (1 point)\n",
    "\n",
    "\n",
    "terraform import, terraform apply -y, terraform destroy\n",
    "\n",
    "teraform init, terraform plan -auto-apply, terraform rm\n",
    "\n",
    "terraform init, terraform run -auto-approve, terraform destroy\n",
    "\n",
    "terraform init, terraform apply -auto-approve, terraform destroy\n",
    "\n",
    "terraform import, terraform apply -y, terraform rm"
   ]
  },
  {
   "cell_type": "code",
   "execution_count": null,
   "metadata": {},
   "outputs": [],
   "source": []
  }
 ],
 "metadata": {
  "language_info": {
   "name": "python"
  }
 },
 "nbformat": 4,
 "nbformat_minor": 2
}
